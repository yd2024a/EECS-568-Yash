{
 "cells": [
  {
   "cell_type": "code",
   "execution_count": 1,
   "id": "ee1e83f4",
   "metadata": {},
   "outputs": [],
   "source": [
    "import numpy as np\n",
    "from scipy.io import loadmat\n",
    "# from sklearn.neighbors import KDTree\n",
    "from scipy.spatial import KDTree\n",
    "import matplotlib.pyplot as plt\n",
    "from matplotlib.patches import Rectangle\n",
    "from tqdm import tqdm"
   ]
  },
  {
   "attachments": {},
   "cell_type": "markdown",
   "id": "7e9572f9",
   "metadata": {},
   "source": [
    "## Belief update for a single cell\n",
    "<div>\n",
    "<img src=\"logodds.png\" width=\"500\" align=\"left\"/>\n",
    "</div>"
   ]
  },
  {
   "attachments": {},
   "cell_type": "markdown",
   "id": "c2ebfc94",
   "metadata": {},
   "source": [
    "## Belief update for map\n",
    "<div>\n",
    "<img src=\"mapping.png\" width=\"500\" align=\"left\"/>\n",
    "</div>"
   ]
  },
  {
   "attachments": {},
   "cell_type": "markdown",
   "id": "5f3f1b93",
   "metadata": {},
   "source": [
    "## Inverse sensor model\n",
    "<div>\n",
    "<img src=\"inverse_sensor.png\" width=\"500\" align=\"left\"/>\n",
    "</div>"
   ]
  },
  {
   "cell_type": "code",
   "execution_count": 2,
   "id": "1a3524c2",
   "metadata": {},
   "outputs": [],
   "source": [
    "#! usr/bin/env python\n",
    "\n",
    "#\n",
    "# Occupancy Grid Mapping Class\n",
    "#\n",
    "# Author: Fangtong Liu\n",
    "# Date: 04/18/2020\n",
    "#\n",
    "\n",
    "# This function is used to convert Cartesian to Polar\n",
    "def cart2pol(x, y):\n",
    "    r = np.sqrt(x ** 2 + y ** 2)\n",
    "    theta = np.arctan2(y, x)\n",
    "    z = np.hstack((r.reshape(-1, 1), theta.reshape(-1, 1)))\n",
    "    return z\n",
    "\n",
    "\n",
    "# This function is used to wrap angles in radians to the interval [-pi, pi]\n",
    "# pi maps to pi and -pi maps to -pi\n",
    "def wrapToPI(phase):\n",
    "    x_wrap = np.remainder(phase, 2 * np.pi)\n",
    "    idx = np.argwhere(np.abs(x_wrap) > np.pi)\n",
    "    while len(idx):\n",
    "        x_wrap[idx] -= 2 * np.pi * np.sign(x_wrap[idx])\n",
    "        idx = np.argwhere(np.abs(x_wrap) > np.pi)\n",
    "    return x_wrap\n",
    "\n",
    "\n",
    "# Occupancy Grid Mapping Class\n",
    "class occupanvy_grid_map:\n",
    "\n",
    "    def __init__(self):\n",
    "        # map dimensions\n",
    "        self.range_x = [-15, 20]\n",
    "        self.range_y = [-25, 10]\n",
    "        # senesor parameters\n",
    "        self.z_max = 30  # max range in meters\n",
    "        self.n_beams = 133  # number of beams\n",
    "        # grid map parameters\n",
    "        self.grid_size = 0.27 # 0.135 / 2\n",
    "        self.alpha = 2 * self.grid_size  # 2 * grid size\n",
    "        self.beta = 2 * np.pi / self.n_beams  # 2 * pi / n_beams\n",
    "        self.nn = 16  # number of nearest neighbor search\n",
    "        # log odds\n",
    "        self.l_occ = 3\n",
    "        self.l_free = -3\n",
    "        self.l_prior = 0\n",
    "        self.map = {}  # map\n",
    "        self.pose = {}  # pose data\n",
    "        self.scan = []  # laser scan data\n",
    "        self.m_i = {}  # cell i\n",
    "\n",
    "    def occupancy_grid_map_construct(self, pose, scan):\n",
    "        # class constructor\n",
    "        # construct map points, i.e., grid centroids\n",
    "        x = np.arange(self.range_x[0], self.range_x[1]+self.grid_size, self.grid_size)\n",
    "        y = np.arange(self.range_y[0], self.range_y[1]+self.grid_size, self.grid_size)\n",
    "        X, Y = np.meshgrid(x, y)\n",
    "        t = np.hstack((X.reshape(-1, 1), Y.reshape(-1, 1)))\n",
    "        # a simple KDTree data structure for map coordinates\n",
    "        self.map['occMap'] = KDTree(t)\n",
    "        self.map['prob'] = 0.5 * np.ones([t.shape[0], 1])\n",
    "        self.map['logodd'] = self.l_prior * np.ones([t.shape[0], 1])\n",
    "        self.map['size'] = t.shape[0]\n",
    "        # set robot pose and laser scan data\n",
    "        self.pose['x'] = pose['x'][0][0]\n",
    "        self.pose['y'] = pose['y'][0][0]\n",
    "        self.pose['h'] = pose['h'][0][0]\n",
    "        self.pose['mdl'] = KDTree(np.hstack((self.pose['x'], self.pose['y'])))\n",
    "        self.scan = scan\n",
    "\n",
    "    def is_in_perceptual_field(self, m, p):\n",
    "        # check if the map cell m is within the perception field of the\n",
    "        # robot located at pose p\n",
    "        d = m - p[0:2].reshape(-1)\n",
    "        self.m_i['range'] = np.sqrt(np.sum(np.power(d, 2)))\n",
    "        self.m_i['phi'] = wrapToPI(np.arctan2(d[1], d[0]) - p[2])\n",
    "        # check if the range is within the feasible interval\n",
    "        if (self.m_i['range'] > 0) and (self.m_i['range'] < self.z_max):\n",
    "            # here sensor covers -pi to pi\n",
    "            if (self.m_i['phi'] > -np.pi) and (self.m_i['phi'] < np.pi):\n",
    "                return True\n",
    "        return False\n",
    "\n",
    "    def inverse_sensor_model(self, z):\n",
    "        # set the default value to prior log odd\n",
    "        l_inv = self.l_prior\n",
    "        bearing_diff = []\n",
    "        # find the nearest beam\n",
    "        bearing_diff = np.abs(wrapToPI(z[:, 1] - self.m_i['phi']))\n",
    "        k = np.nanargmin(bearing_diff)\n",
    "        bearing_min = bearing_diff[k]\n",
    "        if (self.m_i['range'] > min(self.z_max, z[k, 0] + self.alpha / 2)) or (bearing_min > self.beta / 2):\n",
    "            l_inv = self.l_prior\n",
    "        elif (z[k, 0] < self.z_max) and (np.abs(self.m_i['range'] - z[k, 0]) < self.alpha / 2):\n",
    "            l_inv = self.l_occ\n",
    "        elif (self.m_i['range'] < z[k, 0]) and (z[k, 0] < self.z_max):\n",
    "            l_inv = self.l_free\n",
    "        return l_inv\n",
    "\n",
    "    def build_ogm(self):\n",
    "        # build occupancy grid map using the binary Bayes filter.\n",
    "        # We first loop over all map cells, then for each cell, we find\n",
    "        # N nearest neighbor poses to build the map. Note that this is\n",
    "        # more efficient than looping over all poses and all map cells\n",
    "        # for each pose which should be the case in online (incremental)\n",
    "        # data processing.\n",
    "        for i in tqdm(range(self.map['size'])):\n",
    "            m = self.map['occMap'].data[i, :]\n",
    "            neighbour, idxs = self.pose['mdl'].query(m, self.nn)\n",
    "            if len(idxs):\n",
    "                for k in idxs:\n",
    "                    # pose k\n",
    "                    pose_k = np.array([self.pose['x'][k], self.pose['y'][k], self.pose['h'][k]])\n",
    "                    if self.is_in_perceptual_field(m, pose_k):\n",
    "                        # laser scan at kth state; convert from cartesian to\n",
    "                        # polar coordinates\n",
    "                        z = cart2pol(self.scan[k][0][0, :], self.scan[k][0][1, :])\n",
    "                        # update the cell i belief using log odds formula\n",
    "                        self.map['logodd'][i] = self.inverse_sensor_model(z) + self.map['logodd'][i] - self.l_prior\n",
    "\n",
    "    def plot(self):\n",
    "        print('Plotting ogm map')\n",
    "        # plot ogm using conventional black-gray-white cells\n",
    "        fig, ax = plt.subplots()\n",
    "        h = self.grid_size / 2\n",
    "        rect_collection = []  # create a list for all map cells\n",
    "        for i in range(self.map['size']):\n",
    "            m = self.map['occMap'].data[i, :]\n",
    "            x = m[0] - h\n",
    "            y = m[1] - h\n",
    "            probability = 1 - 1 / (1 + np.exp(self.map['logodd'][i]))\n",
    "            color = (1 - probability)*np.array([1, 1, 1])  # map cell colors\n",
    "            rect = Rectangle((x, y), self.grid_size, self.grid_size, facecolor=color, edgecolor=color)  # map cells\n",
    "            ax.add_patch(rect)\n",
    "        ax.autoscale_view()\n",
    "        ax.set_xlim(self.range_x)\n",
    "        ax.set_ylim(self.range_y)\n",
    "        plt.axis('equal')\n",
    "        fig.savefig('ogm_intel.png')\n",
    "        plt.show()"
   ]
  },
  {
   "cell_type": "code",
   "execution_count": 1,
   "id": "5779ece0",
   "metadata": {},
   "outputs": [
    {
     "ename": "NameError",
     "evalue": "name 'loadmat' is not defined",
     "output_type": "error",
     "traceback": [
      "\u001b[0;31m---------------------------------------------------------------------------\u001b[0m",
      "\u001b[0;31mNameError\u001b[0m                                 Traceback (most recent call last)",
      "Cell \u001b[0;32mIn[1], line 9\u001b[0m\n\u001b[1;32m      1\u001b[0m \u001b[38;5;66;03m#! usr/bin/env python\u001b[39;00m\n\u001b[1;32m      2\u001b[0m \n\u001b[1;32m      3\u001b[0m \u001b[38;5;66;03m#\u001b[39;00m\n\u001b[0;32m   (...)\u001b[0m\n\u001b[1;32m      6\u001b[0m \u001b[38;5;66;03m# Date: 04/18/2020\u001b[39;00m\n\u001b[1;32m      7\u001b[0m \u001b[38;5;66;03m#\u001b[39;00m\n\u001b[0;32m----> 9\u001b[0m dataLoad \u001b[38;5;241m=\u001b[39m \u001b[43mloadmat\u001b[49m(\u001b[38;5;124m'\u001b[39m\u001b[38;5;124msample_Intel_dataset.mat\u001b[39m\u001b[38;5;124m'\u001b[39m)\n\u001b[1;32m     10\u001b[0m robotPose \u001b[38;5;241m=\u001b[39m dataLoad[\u001b[38;5;124m'\u001b[39m\u001b[38;5;124mrobotPose\u001b[39m\u001b[38;5;124m'\u001b[39m]\n\u001b[1;32m     11\u001b[0m laserScan \u001b[38;5;241m=\u001b[39m dataLoad[\u001b[38;5;124m'\u001b[39m\u001b[38;5;124mlaserScan\u001b[39m\u001b[38;5;124m'\u001b[39m]\n",
      "\u001b[0;31mNameError\u001b[0m: name 'loadmat' is not defined"
     ]
    }
   ],
   "source": [
    "#! usr/bin/env python\n",
    "\n",
    "#\n",
    "# occupancy grid mapping example\n",
    "# Author: Fangtong Liu\n",
    "# Date: 04/18/2020\n",
    "#\n",
    "\n",
    "dataLoad = loadmat('sample_Intel_dataset.mat')\n",
    "robotPose = dataLoad['robotPose']\n",
    "laserScan = dataLoad['laserScan']\n",
    "globalLaserScan = dataLoad['globalLaserScan']\n",
    "\n",
    "# color\n",
    "green = np.array([0.2980, 0.6, 0])\n",
    "crimson = np.array([220, 20, 60]) / 255\n",
    "darkgrey = [0.35, 0.35, 0.35]\n",
    "\n",
    "print('Plotting dataset')\n",
    "fig = plt.figure()\n",
    "ax = fig.gca()\n",
    "ax.plot(robotPose['x'][0][0], robotPose['y'][0][0], linewidth=2)\n",
    "for i in range(len(laserScan)):\n",
    "    ax.plot(globalLaserScan[i][0][0, :], globalLaserScan[i][0][1, :], '.', color=darkgrey, alpha=0.9, markersize=4)\n",
    "ax.plot(robotPose['x'][0][0][0], robotPose['y'][0][0][0], 's', color=green, alpha=0.8, markersize=14)\n",
    "ax.plot(robotPose['x'][0][0][-1], robotPose['y'][0][0][-1], 'o', color=crimson, alpha=0.8, markersize=14)\n",
    "plt.axis('equal')\n",
    "plt.tight_layout()\n",
    "fig.savefig('ptcloud_intel.png')\n",
    "plt.show()"
   ]
  },
  {
   "cell_type": "code",
   "execution_count": 23,
   "id": "519bfb2b",
   "metadata": {},
   "outputs": [
    {
     "name": "stderr",
     "output_type": "stream",
     "text": [
      "100%|██████████| 17161/17161 [00:09<00:00, 1819.48it/s]\n"
     ]
    },
    {
     "name": "stdout",
     "output_type": "stream",
     "text": [
      "Plotting ogm map\n"
     ]
    },
    {
     "data": {
      "image/png": "[encoded data removed]",
      "text/plain": [
       "<Figure size 640x480 with 1 Axes>"
      ]
     },
     "metadata": {},
     "output_type": "display_data"
    }
   ],
   "source": [
    "ogm = occupanvy_grid_map()\n",
    "ogm.occupancy_grid_map_construct(robotPose, laserScan)\n",
    "ogm.build_ogm()\n",
    "\n",
    "ogm.plot()"
   ]
  },
  {
   "cell_type": "code",
   "execution_count": null,
   "id": "ce3eab38",
   "metadata": {},
   "outputs": [],
   "source": []
  },
  {
   "cell_type": "code",
   "execution_count": null,
   "id": "31955c9c",
   "metadata": {},
   "outputs": [],
   "source": []
  }
 ],
 "metadata": {
  "kernelspec": {
   "display_name": "Python 3 (ipykernel)",
   "language": "python",
   "name": "python3"
  },
  "language_info": {
   "codemirror_mode": {
    "name": "ipython",
    "version": 3
   },
   "file_extension": ".py",
   "mimetype": "text/x-python",
   "name": "python",
   "nbconvert_exporter": "python",
   "pygments_lexer": "ipython3",
   "version": "3.12.1"
  }
 },
 "nbformat": 4,
 "nbformat_minor": 5
}
